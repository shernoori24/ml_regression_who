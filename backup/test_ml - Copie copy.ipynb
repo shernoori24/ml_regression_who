{
 "cells": [
  {
   "cell_type": "markdown",
   "id": "1a0c8e2b",
   "metadata": {},
   "source": [
    "# Gestion des imports"
   ]
  },
  {
   "cell_type": "code",
   "execution_count": 1,
   "id": "3b4879b6",
   "metadata": {},
   "outputs": [],
   "source": [
    "import pandas as pd\n",
    "import numpy as np"
   ]
  },
  {
   "cell_type": "code",
   "execution_count": 2,
   "id": "3bfe047f",
   "metadata": {},
   "outputs": [],
   "source": [
    "# %pip install -U scikit-learn"
   ]
  },
  {
   "cell_type": "code",
   "execution_count": 3,
   "id": "12415086",
   "metadata": {},
   "outputs": [],
   "source": [
    "from sklearn.preprocessing import OneHotEncoder"
   ]
  },
  {
   "cell_type": "markdown",
   "id": "d223a492",
   "metadata": {},
   "source": [
    "# Chargement du CSV et vérification des infos"
   ]
  },
  {
   "cell_type": "code",
   "execution_count": null,
   "id": "03f53467",
   "metadata": {},
   "outputs": [],
   "source": [
    "# Charger les fichiers des données covid et localisations\n",
    "\n",
    "# Afficher les informations des dataframes\n"
   ]
  },
  {
   "cell_type": "code",
   "execution_count": null,
   "id": "a5428262",
   "metadata": {},
   "outputs": [],
   "source": [
    "# Intégrer les colonnes 'population' et 'who_region' dans le dataframe principal\n",
    "\n",
    "# Supprimer les colonnes 'country', 'province_state' et 'city'\n",
    "\n",
    "# Vérifier les informations du nouveau dataframe"
   ]
  },
  {
   "cell_type": "code",
   "execution_count": 6,
   "id": "e40ae8b7",
   "metadata": {},
   "outputs": [],
   "source": [
    "# Supprimer les enregistrements avec des valeurs nulles dans les colonnes 'population' et 'who_region'"
   ]
  },
  {
   "cell_type": "markdown",
   "id": "5d0bc3fe",
   "metadata": {},
   "source": [
    "# Définition d'un lot aléatoire de 5 000 lignes"
   ]
  },
  {
   "cell_type": "code",
   "execution_count": 7,
   "id": "d04a42bb",
   "metadata": {},
   "outputs": [],
   "source": [
    "# Garder 5000 lignes aléatoires"
   ]
  },
  {
   "cell_type": "markdown",
   "id": "0c2774ac",
   "metadata": {},
   "source": [
    "# Ajout du taux de mortalité"
   ]
  },
  {
   "cell_type": "code",
   "execution_count": 8,
   "id": "3f72f4c7",
   "metadata": {},
   "outputs": [],
   "source": [
    "# Calculer le taux de mortalité dans une nouvelle colonne : \"mortality_rate\"\n",
    "\n",
    "# Afficher le résultat en pourcentage\n",
    "\n",
    "\n",
    "# Retirer les deux colonnes 'total_deaths' et 'total_cases'"
   ]
  },
  {
   "cell_type": "code",
   "execution_count": 9,
   "id": "5afe90cf",
   "metadata": {},
   "outputs": [],
   "source": [
    "# Afficher les enregistrements où 'mortality_rate' max = infinity\n",
    "\n",
    "\n",
    "# Supprimer les enregistrements où 'mortality_rate' = infinity\n"
   ]
  },
  {
   "cell_type": "markdown",
   "id": "a6529d61",
   "metadata": {},
   "source": [
    "# Ajout des jours, mois, années et saisons"
   ]
  },
  {
   "cell_type": "code",
   "execution_count": 10,
   "id": "7bd6283c",
   "metadata": {},
   "outputs": [],
   "source": [
    "# Transformer la colonne 'observation_date' en plusieurs colonnes : 'month' (string) et 'season' (string)\n",
    "\n",
    "# On (re)convertit en datetime par sécurité\n",
    "\n",
    "\n",
    "# On crée une nouvelle colonne 'day' dans laquelle on extrait le jour de la date\n",
    "\n",
    "\n",
    "# On crée une nouvelle colonne 'month' dans laquelle on extrait le mois de la date en string\n",
    "\n",
    "\n",
    "# On créer une nouvelle colonne 'year' dans laquelle on extrait l'année de la date\n",
    "\n",
    "\n",
    "# On crée une nouvelle colonne 'day_of_week' dans laquelle on extrait le jour de la semaine (0 = lundi, 6 = dimanche)\n",
    "\n",
    "\n",
    "# On crée une nouvelle colonne 'season' en fonction de la date d'observation\n",
    "# spring : du 21 mars au 20 juin\n",
    "# summer : du 21 juin au 20 septembre\n",
    "# autumn : du 21 septembre au 20 décembre\n",
    "# winter : du 21 décembre au 20 mars\n",
    "\n",
    "\n",
    "# On supprime la colonne 'observation_date'\n"
   ]
  },
  {
   "cell_type": "markdown",
   "id": "689412b5",
   "metadata": {},
   "source": [
    "# Gestion des valeurs quantitatives manquantes (NaN)"
   ]
  },
  {
   "cell_type": "code",
   "execution_count": 11,
   "id": "09315bc9",
   "metadata": {},
   "outputs": [],
   "source": [
    "# Identifier les valeurs Nan dans les colonnes quantitatives\n"
   ]
  },
  {
   "cell_type": "markdown",
   "id": "f9f43522",
   "metadata": {},
   "source": [
    "Imputer les valeurs quantitatives NaN par la moyenne ou la médiane de la colonne : 'total_recovered', 'active_cases'\n",
    "Justifier ce choix"
   ]
  },
  {
   "cell_type": "code",
   "execution_count": 12,
   "id": "2cb4ec36",
   "metadata": {},
   "outputs": [],
   "source": [
    "# On regarde la distribution de la colonne 'total-recovered' en calculant la moyenne, la médiane, les écarts-types et les quantiles Q1 Q2 Q3\n",
    "\n"
   ]
  },
  {
   "cell_type": "code",
   "execution_count": 13,
   "id": "699054f1",
   "metadata": {},
   "outputs": [],
   "source": [
    "# On regarde la distribution de la colonne 'active_cases' en calculant la moyenne, la médiane, les écarts-types et les quantiles Q1 Q2 Q3\n",
    "\n"
   ]
  },
  {
   "cell_type": "code",
   "execution_count": 14,
   "id": "5a1d7b58",
   "metadata": {},
   "outputs": [],
   "source": [
    "# On vérifie qu'il n'y a plus de NaN\n"
   ]
  },
  {
   "cell_type": "markdown",
   "id": "1c7a00b3",
   "metadata": {},
   "source": [
    "# Transformation des valeurs strings en booléens"
   ]
  },
  {
   "cell_type": "code",
   "execution_count": 15,
   "id": "b36e235d",
   "metadata": {},
   "outputs": [],
   "source": [
    "# Utilisation de scikit-learn dummies pour transformer toutes les valeurs strings en booléens\n",
    "\n",
    "# On supprime les colonnes d'origine    \n",
    "\n",
    "\n"
   ]
  },
  {
   "cell_type": "markdown",
   "id": "3cfc12c2",
   "metadata": {},
   "source": [
    "# Standardisation des valeurs"
   ]
  },
  {
   "cell_type": "code",
   "execution_count": 16,
   "id": "37e04044",
   "metadata": {},
   "outputs": [],
   "source": [
    "# Utilisation de la fonction Scale pour standardiser les valeurs quantitatives non booléennes SAUF 'mortality_rate'\n"
   ]
  },
  {
   "cell_type": "markdown",
   "id": "0d0d60be",
   "metadata": {},
   "source": [
    "# Modèle de régression linéaire multiple \n",
    "- Séparer le jeu de données en train et test (70% train, 30% test) /!\\ mettre shuffle=true (on mélange les données avant de les séparer pour éviter un biais temporel)\n",
    "- Lancer le modèle \n",
    "- On fait un ajustement avec .fit()\n",
    "- Ressortir un tableau qui reprend pour chaque variable explicative ses différents coefficients (beta1, 2, 3...) -> savoir ce qui joue le plus grand rôle dans la variation du taux de mortalité\n",
    "- Calculer et afficher le R2 du modèle"
   ]
  },
  {
   "cell_type": "code",
   "execution_count": null,
   "id": "3b7caec3",
   "metadata": {},
   "outputs": [],
   "source": [
    "# Séparer le jeu de données en variables explicatives (X) et variable cible (y)\n",
    "\n",
    "\n",
    "# Train test split avec shuffle=true\n",
    "\n",
    "\n",
    "# initialiser le Modèle de régression linéaire multiple avec .fit() pour l'ajustement \n",
    "\n",
    "\n",
    "# On fait des prédictions sur le jeu de test\n",
    "\n",
    "\n",
    "# Ressortir un tableau qui reprend pour chaque variable explicative ses différents coefficients (beta1, 2, 3...) -> savoir ce qui joue le plus grand rôle dans la variation du taux de mortalité\n",
    "\n",
    "\n",
    "# Calculer et afficher le R2 du modèle\n"
   ]
  },
  {
   "cell_type": "code",
   "execution_count": 18,
   "id": "0d0fa756",
   "metadata": {},
   "outputs": [],
   "source": [
    "# Afficher graphiquement les 10 coefficients les plus importants\n"
   ]
  }
 ],
 "metadata": {
  "kernelspec": {
   "display_name": "Python 3",
   "language": "python",
   "name": "python3"
  },
  "language_info": {
   "codemirror_mode": {
    "name": "ipython",
    "version": 3
   },
   "file_extension": ".py",
   "mimetype": "text/x-python",
   "name": "python",
   "nbconvert_exporter": "python",
   "pygments_lexer": "ipython3",
   "version": "3.13.3"
  }
 },
 "nbformat": 4,
 "nbformat_minor": 5
}
